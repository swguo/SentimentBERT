{
 "cells": [
  {
   "cell_type": "code",
   "execution_count": 1,
   "id": "b94ace25-b4d2-4cbf-a76f-746ac1a3e5eb",
   "metadata": {},
   "outputs": [],
   "source": [
    "import sys"
   ]
  },
  {
   "cell_type": "code",
   "execution_count": null,
   "id": "8036ab9d-5930-4985-a89a-8a57a7a4ade0",
   "metadata": {},
   "outputs": [
    {
     "name": "stdout",
     "output_type": "stream",
     "text": [
      "Figure(640x480)\n",
      "/user_data/envs/LLMs/lib/python3.8/site-packages/transformers/optimization.py:429: FutureWarning: This implementation of AdamW is deprecated and will be removed in a future version. Use the PyTorch implementation torch.optim.AdamW instead, or set `no_deprecation_warning=True` to disable this warning\n",
      "  warnings.warn(\n",
      "Epoch 1/10\n",
      "Training: 100%|███████████████████████████████| 788/788 [02:06<00:00,  6.24it/s]\n",
      "Evaluating: 100%|█████████████████████████████| 197/197 [00:10<00:00, 18.73it/s]\n",
      "Train loss: 0.7478 accuracy: 0.6524\n",
      "Validation loss: 0.6393 accuracy: 0.7390\n",
      "Epoch 2/10\n",
      "Training: 100%|███████████████████████████████| 788/788 [02:08<00:00,  6.16it/s]\n",
      "Evaluating: 100%|█████████████████████████████| 197/197 [00:10<00:00, 18.55it/s]\n",
      "Train loss: 0.4949 accuracy: 0.8007\n",
      "Validation loss: 0.5980 accuracy: 0.7905\n",
      "Epoch 3/10\n",
      "Training: 100%|███████████████████████████████| 788/788 [02:08<00:00,  6.14it/s]\n",
      "Evaluating: 100%|█████████████████████████████| 197/197 [00:10<00:00, 18.56it/s]\n",
      "Train loss: 0.2997 accuracy: 0.8922\n",
      "Validation loss: 0.6652 accuracy: 0.8229\n",
      "Epoch 4/10\n",
      "Training: 100%|███████████████████████████████| 788/788 [02:08<00:00,  6.14it/s]\n",
      "Evaluating: 100%|█████████████████████████████| 197/197 [00:10<00:00, 18.51it/s]\n",
      "Train loss: 0.2013 accuracy: 0.9371\n",
      "Validation loss: 0.7000 accuracy: 0.8435\n",
      "Epoch 5/10\n",
      "Training: 100%|███████████████████████████████| 788/788 [02:08<00:00,  6.13it/s]\n",
      "Evaluating: 100%|█████████████████████████████| 197/197 [00:10<00:00, 18.53it/s]\n",
      "Train loss: 0.1483 accuracy: 0.9553\n",
      "Validation loss: 0.7807 accuracy: 0.8508\n",
      "Epoch 6/10\n",
      "Training: 100%|███████████████████████████████| 788/788 [02:08<00:00,  6.13it/s]\n",
      "Evaluating: 100%|█████████████████████████████| 197/197 [00:10<00:00, 18.53it/s]\n",
      "Train loss: 0.1028 accuracy: 0.9709\n",
      "Validation loss: 0.8653 accuracy: 0.8556\n",
      "Epoch 7/10\n",
      "Training: 100%|███████████████████████████████| 788/788 [02:08<00:00,  6.14it/s]\n",
      "Evaluating: 100%|█████████████████████████████| 197/197 [00:10<00:00, 18.56it/s]\n",
      "Train loss: 0.0803 accuracy: 0.9760\n",
      "Validation loss: 0.8745 accuracy: 0.8635\n",
      "Epoch 8/10\n",
      "Training: 100%|███████████████████████████████| 788/788 [02:08<00:00,  6.14it/s]\n",
      "Evaluating: 100%|█████████████████████████████| 197/197 [00:10<00:00, 18.55it/s]\n",
      "Train loss: 0.0585 accuracy: 0.9823\n",
      "Validation loss: 0.9557 accuracy: 0.8603\n",
      "Epoch 9/10\n",
      "Training: 100%|███████████████████████████████| 788/788 [02:08<00:00,  6.14it/s]\n",
      "Evaluating: 100%|█████████████████████████████| 197/197 [00:10<00:00, 18.58it/s]\n",
      "Train loss: 0.0457 accuracy: 0.9852\n",
      "Validation loss: 0.9676 accuracy: 0.8641\n",
      "Epoch 10/10\n",
      "Training: 100%|███████████████████████████████| 788/788 [02:08<00:00,  6.15it/s]\n",
      "Evaluating: 100%|█████████████████████████████| 197/197 [00:10<00:00, 18.58it/s]\n",
      "Train loss: 0.0371 accuracy: 0.9874\n",
      "Validation loss: 0.9788 accuracy: 0.8654\n",
      "Figure(640x480)\n"
     ]
    }
   ],
   "source": [
    "!{sys.executable} main.py --data_path \"data/reviews.csv\" --epochs 10"
   ]
  },
  {
   "cell_type": "code",
   "execution_count": null,
   "id": "7e525e53-edee-44ee-a72f-6615f6c5018c",
   "metadata": {},
   "outputs": [
    {
     "name": "stdout",
     "output_type": "stream",
     "text": [
      "Inference results saved to infr_result.csv\n"
     ]
    }
   ],
   "source": [
    "!{sys.executable} inference.py --test_data_path 'data/test.csv' \\\n",
    "--model_path 'best_model_state.bin' \\\n",
    "--output_path 'infr_result.csv'"
   ]
  },
  {
   "cell_type": "code",
   "execution_count": 4,
   "id": "4631d11b-ae0a-4de0-b9ed-ea67a5b0d6d3",
   "metadata": {},
   "outputs": [
    {
     "name": "stdout",
     "output_type": "stream",
     "text": [
      "Confusion Matrix:\n",
      "[[ 856  112   29]\n",
      " [  68  838   73]\n",
      " [  27  115 1032]]\n",
      "Figure(800x600)\n",
      "Classification Report:\n",
      "              precision    recall  f1-score   support\n",
      "\n",
      "    negative       0.90      0.86      0.88       997\n",
      "     neutral       0.79      0.86      0.82       979\n",
      "    positive       0.91      0.88      0.89      1174\n",
      "\n",
      "    accuracy                           0.87      3150\n",
      "   macro avg       0.87      0.86      0.86      3150\n",
      "weighted avg       0.87      0.87      0.87      3150\n",
      "\n"
     ]
    }
   ],
   "source": [
    "!{sys.executable} eval.py --inference_results_path 'infr_result.csv'"
   ]
  },
  {
   "cell_type": "code",
   "execution_count": null,
   "id": "137729d7-a5cb-4fe0-82e1-3fdd3b42ba3a",
   "metadata": {},
   "outputs": [],
   "source": []
  }
 ],
 "metadata": {
  "kernelspec": {
   "display_name": "LLMs",
   "language": "python",
   "name": "llms"
  },
  "language_info": {
   "codemirror_mode": {
    "name": "ipython",
    "version": 3
   },
   "file_extension": ".py",
   "mimetype": "text/x-python",
   "name": "python",
   "nbconvert_exporter": "python",
   "pygments_lexer": "ipython3",
   "version": "3.8.10"
  }
 },
 "nbformat": 4,
 "nbformat_minor": 5
}
